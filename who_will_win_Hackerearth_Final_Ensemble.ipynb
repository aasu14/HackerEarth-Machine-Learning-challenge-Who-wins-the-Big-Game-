{
  "nbformat": 4,
  "nbformat_minor": 0,
  "metadata": {
    "colab": {
      "name": "who_will_win_Hackerearth_Final_Ensemble.ipynb",
      "provenance": [],
      "collapsed_sections": []
    },
    "kernelspec": {
      "name": "python3",
      "display_name": "Python 3"
    }
  },
  "cells": [
    {
      "cell_type": "code",
      "metadata": {
        "id": "lWJgsjXT215O",
        "colab_type": "code",
        "colab": {}
      },
      "source": [
        "from google.colab import files\n",
        "files.upload()"
      ],
      "execution_count": 0,
      "outputs": []
    },
    {
      "cell_type": "code",
      "metadata": {
        "id": "bbo1xIAEmuTj",
        "colab_type": "code",
        "colab": {}
      },
      "source": [
        "import pandas as pd\n",
        "import numpy as np\n",
        "import matplotlib.pyplot as plt\n",
        "%matplotlib inline"
      ],
      "execution_count": 0,
      "outputs": []
    },
    {
      "cell_type": "code",
      "metadata": {
        "id": "nfvl4Ck2w59e",
        "colab_type": "code",
        "colab": {}
      },
      "source": [
        "\n",
        "s1 = pd.read_csv('.7799.csv')\n",
        "s2 = pd.read_csv('.7715.csv')\n",
        "s3 = pd.read_csv('.7619.csv')\n",
        "s4 = pd.read_csv('.7590.csv')\n"
      ],
      "execution_count": 0,
      "outputs": []
    },
    {
      "cell_type": "code",
      "metadata": {
        "id": "rdbyUqMHkx09",
        "colab_type": "code",
        "outputId": "5ffafa88-e213-40a6-f453-0c51522ee252",
        "colab": {
          "base_uri": "https://localhost:8080/",
          "height": 34
        }
      },
      "source": [
        "s1['Won_Championship'].unique()"
      ],
      "execution_count": 0,
      "outputs": [
        {
          "output_type": "execute_result",
          "data": {
            "text/plain": [
              "array([0, 1])"
            ]
          },
          "metadata": {
            "tags": []
          },
          "execution_count": 46
        }
      ]
    },
    {
      "cell_type": "code",
      "metadata": {
        "id": "lgrAh48Yy7ay",
        "colab_type": "code",
        "colab": {}
      },
      "source": [
        "import math"
      ],
      "execution_count": 0,
      "outputs": []
    },
    {
      "cell_type": "code",
      "metadata": {
        "id": "L2DYdJCtxe0j",
        "colab_type": "code",
        "colab": {}
      },
      "source": [
        "s1['Won_Championship'] = (s1['Won_Championship']*.50 + s2['Won_Championship']*.25 + s3['Won_Championship']*.15 + s4['Won_Championship']*.10)"
      ],
      "execution_count": 0,
      "outputs": []
    },
    {
      "cell_type": "code",
      "metadata": {
        "id": "Dp05xkqux4vO",
        "colab_type": "code",
        "colab": {}
      },
      "source": [
        "s1.to_csv('ensemble.csv', index=False)"
      ],
      "execution_count": 0,
      "outputs": []
    },
    {
      "cell_type": "code",
      "metadata": {
        "id": "dMo-gM1kyHBn",
        "colab_type": "code",
        "colab": {}
      },
      "source": [
        "d=[]\n",
        "for i in s1['Won_Championship']:\n",
        "  if i==0:\n",
        "    d.append(0)\n",
        "  else:\n",
        "    d.append(1)"
      ],
      "execution_count": 0,
      "outputs": []
    },
    {
      "cell_type": "code",
      "metadata": {
        "id": "uu_7zvQkmTXV",
        "colab_type": "code",
        "colab": {}
      },
      "source": [
        "s1['Won_Championship']=d"
      ],
      "execution_count": 0,
      "outputs": []
    },
    {
      "cell_type": "code",
      "metadata": {
        "id": "d503t_n7mTvk",
        "colab_type": "code",
        "outputId": "95998160-2cea-4269-a1cf-746fed526118",
        "colab": {
          "base_uri": "https://localhost:8080/",
          "height": 34
        }
      },
      "source": [
        "s1['Won_Championship'].unique()"
      ],
      "execution_count": 0,
      "outputs": [
        {
          "output_type": "execute_result",
          "data": {
            "text/plain": [
              "array([0, 1])"
            ]
          },
          "metadata": {
            "tags": []
          },
          "execution_count": 10
        }
      ]
    },
    {
      "cell_type": "code",
      "metadata": {
        "id": "Cics0UJ0mkGw",
        "colab_type": "code",
        "colab": {}
      },
      "source": [
        "from google.colab import files\n",
        "files.download('ensemble.csv')"
      ],
      "execution_count": 0,
      "outputs": []
    }
  ]
}